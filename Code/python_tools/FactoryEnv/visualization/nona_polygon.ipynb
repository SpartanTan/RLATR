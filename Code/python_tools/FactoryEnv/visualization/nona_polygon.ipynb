{
 "cells": [
  {
   "attachments": {},
   "cell_type": "markdown",
   "metadata": {},
   "source": [
    "# Nona polygon"
   ]
  },
  {
   "cell_type": "code",
   "execution_count": 2,
   "metadata": {},
   "outputs": [
    {
     "name": "stdout",
     "output_type": "stream",
     "text": [
      "POINT (10.82 3)\n",
      "0.3200000000000003\n",
      "The point is not within any of the polygons.\n"
     ]
    },
    {
     "data": {
      "image/png": "[encoded data removed]",
      "text/plain": [
       "<Figure size 640x480 with 1 Axes>"
      ]
     },
     "metadata": {},
     "output_type": "display_data"
    }
   ],
   "source": [
    "import json\n",
    "from shapely.geometry import Point, Polygon, MultiLineString\n",
    "from shapely.ops import nearest_points\n",
    "\n",
    "import matplotlib.pyplot as plt\n",
    "from matplotlib.patches import Polygon as mplPolygon\n",
    "\n",
    "map_dir = \"testnona.json\"\n",
    "with open(map_dir, \"r\") as file:\n",
    "            # Load the JSON content into a Python dictionary\n",
    "            data = json.load(file)\n",
    "\n",
    "polygons = [Polygon(coords) for coords in data[\"polygons\"]]\n",
    "\n",
    "def is_point_within_polygons(point, polygons):\n",
    "    for polygon in polygons:\n",
    "        if point.within(polygon):\n",
    "            return True\n",
    "    return False\n",
    "\n",
    "def find_nearest_boundary_point(query_point, polygons):\n",
    "    # Combine the exterior boundaries of all polygons into a MultiLineString\n",
    "    boundary = MultiLineString([polygon.exterior for polygon in polygons])\n",
    "    \n",
    "    # Find the nearest points on the boundary to the query_point\n",
    "    nearest_point = nearest_points(query_point, boundary)[1]\n",
    "    distance = nearest_point.distance(query_point)\n",
    "    return nearest_point, distance\n",
    "\n",
    "# Replace the x and y coordinates with the ones you want to check\n",
    "x = 10.5\n",
    "y = 3\n",
    "point = Point(x, y)\n",
    "nearest_boundary_point, distance = find_nearest_boundary_point(point, polygons)\n",
    "\n",
    "fig, ax = plt.subplots()\n",
    "\n",
    "for polygon in polygons:\n",
    "    x, y = polygon.exterior.xy\n",
    "    ax.plot(x, y, 'k-') # change 'k-' to any other color, linestyle\n",
    "    ax.fill(x, y, alpha=0.3) # change alpha to control the transparency\n",
    "    \n",
    "plt.scatter(point.x, point.y, color='red', marker='o', s=50)\n",
    "plt.scatter(nearest_boundary_point.x, nearest_boundary_point.y, color='blue', marker='x', s=50)\n",
    "print(nearest_boundary_point)\n",
    "print(distance)\n",
    "if is_point_within_polygons(point, polygons):\n",
    "    print(\"The point is within one of the polygons.\")\n",
    "else:\n",
    "    print(\"The point is not within any of the polygons.\")"
   ]
  }
 ],
 "metadata": {
  "kernelspec": {
   "display_name": "ros2_env",
   "language": "python",
   "name": "python3"
  },
  "language_info": {
   "codemirror_mode": {
    "name": "ipython",
    "version": 3
   },
   "file_extension": ".py",
   "mimetype": "text/x-python",
   "name": "python",
   "nbconvert_exporter": "python",
   "pygments_lexer": "ipython3",
   "version": "3.11.5"
  },
  "orig_nbformat": 4
 },
 "nbformat": 4,
 "nbformat_minor": 2
}
