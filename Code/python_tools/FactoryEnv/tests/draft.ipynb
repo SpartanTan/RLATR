{
 "cells": [
  {
   "cell_type": "code",
   "execution_count": 1,
   "metadata": {},
   "outputs": [
    {
     "name": "stdout",
     "output_type": "stream",
     "text": [
      "{'trajectory_point_interval': 0.1, 'No': 8, 'Nw': 8, 'Lp': 6, 'mu_r': 0.25, 'sigma_d': 0.5, 'shift_distance': 1, 'extend_length': 2.0, 'look_ahead_distance': 0.5, 'target_finishing_time': 30, 'alpha_lambda': 1.0, 'beta_lambda': 2.0, 'gamma_theta': 4.0, 'gamma_x': 0.1, 'gamma_e': 0.5, 'alpha_r': 0.1, 'r_collision': -2000, 'r_arrived': 2000, 'dt': 0.1, 'wheel_radius': 0.125, 'track_width': 0.48, 'atr_linear_vel_max': 0.2, 'atr_w_min': -0.2, 'atr_w_max': 1.6, 'distance_threshold': 0.8, 'sensor_angle': 240, 'nsectors': 20, 'num_points_on_walls': 5, 'num_points_on_obstacles': 5, 'angle_threshold': 2.0943951023931953, 'sector_bound_angle': 2.0943951023931953, 'narrow_angle': 1.0471975511965976, 'angle_inbetween': 2.0943951023931953, 'num_of_sectors': 21, 'max_episode_steps': 900.0, 'full_plot': True}\n"
     ]
    }
   ],
   "source": [
    "from factory_env.envs.parameters import env_param, path_param, reward_param, ATR_param, sensor_param\n",
    "\n",
    "\n",
    "def class_to_dict(obj):\n",
    "    output = {}\n",
    "    for attr_name, attr_value in vars(obj).items():\n",
    "        if isinstance(attr_value, (int, float)):\n",
    "            output[attr_name] = attr_value\n",
    "        elif hasattr(attr_value, '__dict__'):\n",
    "            nested_dict = class_to_dict(attr_value)\n",
    "            output = {**output, **nested_dict} # Merge dictionaries\n",
    "    return output\n",
    "\n",
    "# example usage\n",
    "env = env_param()\n",
    "parameters_dict = class_to_dict(env)\n",
    "print(parameters_dict)"
   ]
  },
  {
   "cell_type": "code",
   "execution_count": 6,
   "metadata": {},
   "outputs": [
    {
     "name": "stdout",
     "output_type": "stream",
     "text": [
      "yes\n"
     ]
    }
   ],
   "source": [
    "import numpy as np\n",
    "indx = [4, 9, 14, 15, 18]\n",
    "if 15 in indx:\n",
    "    print(\"yes\")"
   ]
  },
  {
   "cell_type": "code",
   "execution_count": 23,
   "metadata": {},
   "outputs": [
    {
     "name": "stdout",
     "output_type": "stream",
     "text": [
      "<class 'numpy.ndarray'>\n",
      "-7965.7085\n"
     ]
    }
   ],
   "source": [
    "import numpy as np\n",
    "\n",
    "data = {'final_observation': np.array([np.array([ 0.172, -0.03 ,  0.092,  0.137, -0.036, -0.161,  0.   ,  0.   ,\n",
    "               0.   ,  0.873,  0.807,  0.807,  0.834,  0.807,  0.807,  0.807,\n",
    "               0.803,  0.803,  0.803,  0.803,  0.803,  0.803,  0.   ,  0.873,\n",
    "               0.   ,  0.   ], dtype=np.float32), None],dtype=object), \n",
    "'_final_observation': np.array([ True, False]), \n",
    "'final_info': np.array([{'episode': {'r': np.array([-7931.417],dtype=np.float32), 'l': np.array([45], dtype=np.int32), 't': np.array([0.094], dtype=np.float32)}},\n",
    "                        {'episode': {'r': np.array([-8000.], dtype=np.float32), 'l': np.array([45], dtype=np.int32), 't': np.array([0.094], dtype=np.float32)}}],dtype=object),\n",
    "'_final_info': np.array([ True, False])}\n",
    "\n",
    "def extract_values(data):\n",
    "    # Extract arrays from dictionary\n",
    "    final_observation = data['final_observation']\n",
    "    _final_observation = data['_final_observation']\n",
    "    final_info = data['final_info']\n",
    "    _final_info = data['_final_info']\n",
    "    # Convert numpy bool to python bool\n",
    "\n",
    "    return final_observation, _final_observation, final_info, _final_info\n",
    "\n",
    "def extract_episode_r_l_t(final_info):\n",
    "    r_values = [episode['episode']['r'][0] for episode in final_info if episode is not None]\n",
    "    l_values = [episode['episode']['l'][0] for episode in final_info if episode is not None]\n",
    "    t_values = [episode['episode']['t'][0] for episode in final_info if episode is not None]\n",
    "    return r_values, l_values, t_values\n",
    "\n",
    "final_observation, _final_observation, final_info, _final_info = extract_values(data)\n",
    "print(type(final_info))\n",
    "r,l,t = extract_episode_r_l_t(final_info)\n",
    "print(np.mean(r))\n",
    "# print(final_observation)\n",
    "# print(_final_observation)\n",
    "# print(final_info)\n",
    "# print(_final_info)\n",
    "# print(r)\n",
    "# print(l)\n",
    "# print(t)\n",
    "\n",
    "# for item in data.keys():\n",
    "#     for d in data[item]:\n",
    "#         if isinstance(d, dict) and \"episode\" in d.keys():\n",
    "#             print(d[\"episode\"][\"r\"][0])\n",
    "        \n"
   ]
  },
  {
   "cell_type": "code",
   "execution_count": 28,
   "metadata": {},
   "outputs": [
    {
     "name": "stdout",
     "output_type": "stream",
     "text": [
      "tensor([5., 0., 0., 2.])\n"
     ]
    }
   ],
   "source": [
    "import torch\n",
    "\n",
    "mask = torch.Tensor([1, 0, 0, 1])\n",
    "test = torch.Tensor([5,4,3,2])\n",
    "print(mask*test)"
   ]
  },
  {
   "cell_type": "code",
   "execution_count": 130,
   "metadata": {},
   "outputs": [
    {
     "name": "stdout",
     "output_type": "stream",
     "text": [
      "-0.5406910917524406\n"
     ]
    }
   ],
   "source": [
    "alpha_lambda = 1.0\n",
    "beta_lambda = 2.0\n",
    "Lambda = 10**(-np.random.gamma(alpha_lambda, 1.0/beta_lambda))\n",
    "reward_trade_off = np.log10(Lambda)\n",
    "print(reward_trade_off)"
   ]
  }
 ],
 "metadata": {
  "kernelspec": {
   "display_name": "ros2_env",
   "language": "python",
   "name": "python3"
  },
  "language_info": {
   "codemirror_mode": {
    "name": "ipython",
    "version": 3
   },
   "file_extension": ".py",
   "mimetype": "text/x-python",
   "name": "python",
   "nbconvert_exporter": "python",
   "pygments_lexer": "ipython3",
   "version": "3.10.10"
  },
  "orig_nbformat": 4
 },
 "nbformat": 4,
 "nbformat_minor": 2
}
